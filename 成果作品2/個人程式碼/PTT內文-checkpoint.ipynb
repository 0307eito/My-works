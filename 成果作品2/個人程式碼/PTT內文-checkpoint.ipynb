{
 "cells": [
  {
   "cell_type": "code",
   "execution_count": 108,
   "metadata": {},
   "outputs": [],
   "source": [
    "import requests\n",
    "from bs4 import BeautifulSoup\n",
    "import re\n",
    "import threading\n",
    "import time"
   ]
  },
  {
   "cell_type": "code",
   "execution_count": 109,
   "metadata": {},
   "outputs": [],
   "source": [
    "url = 'https://www.ptt.cc/bbs/HatePolitics/index.html'\n",
    "my_headers = {'cookie': 'over18=1;'}\n",
    "r = requests.get(url, headers = my_headers)\n",
    "\n",
    "soup = BeautifulSoup(r.text, \"html5lib\")"
   ]
  },
  {
   "cell_type": "code",
   "execution_count": 110,
   "metadata": {},
   "outputs": [
    {
     "name": "stdout",
     "output_type": "stream",
     "text": [
      "50\n"
     ]
    },
    {
     "data": {
      "text/plain": [
       "'https://www.ptt.cc/bbs/HatePolitics/index4063.html'"
      ]
     },
     "execution_count": 110,
     "metadata": {},
     "output_type": "execute_result"
    }
   ],
   "source": [
    "url_list=['https://www.ptt.cc/bbs/HatePolitics/index.html']\n",
    "\n",
    "a=soup.find_all('a',class_=\"btn wide\")\n",
    "second_page=a[1]['href']\n",
    "second_page_number=re.findall('[0-9]+', second_page)\n",
    "\n",
    "count=int(second_page_number[0])+1\n",
    "for i in range(49):\n",
    "    count-=1\n",
    "    url_list.append('https://www.ptt.cc/bbs/HatePolitics/index'+str(count)+'.html')\n",
    "\n",
    "print(len(url_list))  \n",
    "    \n",
    "url_list[-1]"
   ]
  },
  {
   "cell_type": "code",
   "execution_count": 111,
   "metadata": {},
   "outputs": [
    {
     "name": "stdout",
     "output_type": "stream",
     "text": [
      "965\n",
      "36.11803841590881\n"
     ]
    }
   ],
   "source": [
    "start = time.time()\n",
    "\n",
    "title_url=[]\n",
    "\n",
    "my_headers = {'cookie': 'over18=1;'}\n",
    "for i in range(0,50):\n",
    "    r=requests.get(url_list[i],headers=my_headers)\n",
    "    soup = BeautifulSoup(r.text, \"html5lib\")\n",
    "    b=soup.find_all('div',class_=\"title\")\n",
    "\n",
    "    for i in range(len(b)):\n",
    "        if b[i].text.replace('\\n','').replace('\\t','')[0:8]!='(本文已被刪除)' and b[i].text.replace('\\n','').replace('\\t','')[0:3]!='(已被':\n",
    "            title_url.append('https://www.ptt.cc'+b[i].a['href'])\n",
    "\n",
    "print(len(title_url))\n",
    "process_time = time.time() - start\n",
    "print(process_time)"
   ]
  },
  {
   "cell_type": "code",
   "execution_count": 112,
   "metadata": {},
   "outputs": [
    {
     "name": "stdout",
     "output_type": "stream",
     "text": [
      "675.8067371845245\n"
     ]
    }
   ],
   "source": [
    "\n",
    "start = time.time()\n",
    "\n",
    "\n",
    "my_headers = {'cookie': 'over18=1;'}\n",
    "\n",
    "for i in range(len(title_url)):\n",
    "    url = title_url[i]\n",
    "    r = requests.get(url, headers = my_headers)\n",
    "    soup = BeautifulSoup(r.text, \"html5lib\")\n",
    "    \n",
    "    a=soup.find_all('div', class_=\"bbs-screen bbs-content\")\n",
    "    b=soup.find_all('span',class_='article-meta-value')\n",
    "    if len(b)==4:\n",
    "        file = open('test.txt', 'a',encoding=\"utf-8\")\n",
    "        file.write(str(a[0].contents[4]).replace('\\n','').replace(' ',''))\n",
    "        file.close()\n",
    "\n",
    "process_time = time.time() - start\n",
    "print(process_time)\n",
    "\n",
    "\n",
    "\n",
    "\n",
    "\n",
    "\n",
    "\n",
    "\n",
    "\n"
   ]
  },
  {
   "cell_type": "code",
   "execution_count": null,
   "metadata": {},
   "outputs": [],
   "source": [
    "\n",
    "#-------------------------------------------------------------------------------------\n",
    "\n"
   ]
  },
  {
   "cell_type": "code",
   "execution_count": 106,
   "metadata": {},
   "outputs": [
    {
     "name": "stdout",
     "output_type": "stream",
     "text": [
      "4\n"
     ]
    },
    {
     "data": {
      "text/plain": [
       "'女口是頁先不論那些要微信打賞的舔共自媒體柯粉今早的操作明顯想要用政治力讓77閉嘴因為對於瘦肉精的見解不同也發現雖然這個議題很好操作但是美、捷一套組合拳下來台灣民眾也多半持觀望態度沒有一面倒的風向導致藍白陣營在這個議題久攻不下乾脆直接拿下網路自媒體意見領袖的傳播節點而這個操作之前其實看過了阿滴在台灣的一封公開信事件也是先被攻擊得體無完膚什麼難聽的話都罵可以罵出來然後這禮拜眼球中央報導民進黨雙標也是被柯粉捧上天說1450要抹中共同路人了企圖直接收編眼球觀眾群但是民進黨雙標這件事情不用你好朋友講選民跟支持者自己也看得出來眼球的立場就是那樣諷刺時事國際局勢跟壓力就在那裡一般民眾除非是柯粉統處或是智障才看不出來你們倒是可以繼續檢討選民對國民兩黨兩套標準扯遠了藍白陣營自己把友己的粉專、YTer、網路意見領袖經營的越趨小眾極端、或互相攻奸、或自己封麥還想要去收編或是其他陣營或是無陣營的自媒體？這真是愈來愈驗證了那個網路流寇輪--'"
      ]
     },
     "execution_count": 106,
     "metadata": {},
     "output_type": "execute_result"
    }
   ],
   "source": [
    "\n",
    "url = title_url[46]\n",
    "my_headers = {'cookie': 'over18=1;'}\n",
    "r = requests.get(url, headers = my_headers)\n",
    "\n",
    "soup = BeautifulSoup(r.text, \"html5lib\")\n",
    "\n",
    "a=soup.find_all('div', class_=\"bbs-screen bbs-content\")\n",
    "b=soup.find_all('span',class_='article-meta-value')\n",
    "#aa=a[0].contents[4].replace('\\n','').replace(' ','')\n",
    "\n",
    "#if len(b)==4:\n",
    "#if aa!='':\n",
    "print(len(b))\n",
    "str(a[0].contents[4]).replace('\\n','').replace(' ','')"
   ]
  },
  {
   "cell_type": "code",
   "execution_count": 83,
   "metadata": {},
   "outputs": [
    {
     "name": "stdout",
     "output_type": "stream",
     "text": [
      "4\n"
     ]
    }
   ],
   "source": [
    "a=soup.find_all('span',class_='article-meta-value')\n",
    "a\n",
    "print(len(a))"
   ]
  },
  {
   "cell_type": "code",
   "execution_count": 71,
   "metadata": {},
   "outputs": [],
   "source": [
    "file = open('test.txt', 'w')\n",
    "file.write(a[0].contents[4].replace('\\n',''))\n",
    "file.close()"
   ]
  },
  {
   "cell_type": "code",
   "execution_count": 72,
   "metadata": {},
   "outputs": [],
   "source": [
    "file = open('test.txt', 'a')\n",
    "file.write(a[0].contents[4].replace('\\n',''))\n",
    "file.close()"
   ]
  },
  {
   "cell_type": "code",
   "execution_count": 113,
   "metadata": {},
   "outputs": [
    {
     "name": "stdout",
     "output_type": "stream",
     "text": [
      "964\n"
     ]
    }
   ],
   "source": [
    "\n",
    "\n",
    "print(title_url.index('https://www.ptt.cc/bbs/HatePolitics/M.1599052421.A.DC0.html'))\n"
   ]
  },
  {
   "cell_type": "code",
   "execution_count": 107,
   "metadata": {},
   "outputs": [
    {
     "data": {
      "text/plain": [
       "'https://www.ptt.cc/bbs/HatePolitics/M.1599272439.A.B9D.html'"
      ]
     },
     "execution_count": 107,
     "metadata": {},
     "output_type": "execute_result"
    }
   ],
   "source": [
    "title_url[46]\n"
   ]
  },
  {
   "cell_type": "code",
   "execution_count": 57,
   "metadata": {},
   "outputs": [
    {
     "data": {
      "text/plain": [
       "4"
      ]
     },
     "execution_count": 57,
     "metadata": {},
     "output_type": "execute_result"
    }
   ],
   "source": [
    "url = title_url[295]\n",
    "r = requests.get(url, headers = my_headers)\n",
    "soup = BeautifulSoup(r.text, \"html5lib\")\n",
    "b=soup.find_all('span',class_='article-meta-value')\n",
    "len(b)\n",
    "\n"
   ]
  },
  {
   "cell_type": "code",
   "execution_count": null,
   "metadata": {},
   "outputs": [],
   "source": []
  }
 ],
 "metadata": {
  "kernelspec": {
   "display_name": "Python 3",
   "language": "python",
   "name": "python3"
  },
  "language_info": {
   "codemirror_mode": {
    "name": "ipython",
    "version": 3
   },
   "file_extension": ".py",
   "mimetype": "text/x-python",
   "name": "python",
   "nbconvert_exporter": "python",
   "pygments_lexer": "ipython3",
   "version": "3.7.6"
  }
 },
 "nbformat": 4,
 "nbformat_minor": 4
}
